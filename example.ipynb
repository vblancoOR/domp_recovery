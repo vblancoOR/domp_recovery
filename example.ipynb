{
 "cells": [
  {
   "cell_type": "code",
   "execution_count": 24,
   "id": "f160d91d",
   "metadata": {},
   "outputs": [
    {
     "name": "stdout",
     "output_type": "stream",
     "text": [
      "Set parameter OutputFlag to value 1\n",
      "Gurobi Optimizer version 12.0.1 build v12.0.1rc0 (mac64[arm] - Darwin 24.5.0 24F74)\n",
      "\n",
      "CPU model: Apple M1 Max\n",
      "Thread count: 10 physical cores, 10 logical processors, using up to 10 threads\n",
      "\n",
      "Non-default parameters:\n",
      "TimeLimit  3600\n",
      "\n",
      "Optimize a model with 30101 rows, 10300 columns and 1545100 nonzeros\n",
      "Model fingerprint: 0xd93fc9cf\n",
      "Variable types: 200 continuous, 10100 integer (10100 binary)\n",
      "Coefficient statistics:\n",
      "  Matrix range     [9e-03, 4e+00]\n",
      "  Objective range  [1e+00, 1e+00]\n",
      "  Bounds range     [1e+00, 1e+00]\n",
      "  RHS range        [1e+00, 2e+00]\n",
      "Found heuristic solution: objective 175.7505662\n",
      "Presolve removed 300 rows and 100 columns\n",
      "Presolve time: 2.26s\n",
      "Presolved: 29801 rows, 10200 columns, 1534800 nonzeros\n",
      "Variable types: 200 continuous, 10000 integer (10000 binary)\n",
      "\n",
      "Deterministic concurrent LP optimizer: primal and dual simplex (primal and dual model)\n",
      "Showing primal log only...\n",
      "\n",
      "Root relaxation presolved: 29801 rows, 10200 columns, 1534800 nonzeros\n",
      "\n",
      "Concurrent spin time: 0.04s\n",
      "\n",
      "Solved with dual simplex\n",
      "\n",
      "Root relaxation: objective 2.756651e+01, 11839 iterations, 1.29 seconds (3.03 work units)\n",
      "\n",
      "    Nodes    |    Current Node    |     Objective Bounds      |     Work\n",
      " Expl Unexpl |  Obj  Depth IntInf | Incumbent    BestBd   Gap | It/Node Time\n",
      "\n",
      "*    0     0               0      27.5665087   27.56651  0.00%     -    3s\n",
      "\n",
      "Explored 1 nodes (11839 simplex iterations) in 3.69 seconds (10.10 work units)\n",
      "Thread count was 10 (of 10 available processors)\n",
      "\n",
      "Solution count 2: 27.5665 175.751 \n",
      "\n",
      "Optimal solution found (tolerance 1.00e-04)\n",
      "Best objective 2.756650872016e+01, best bound 2.756650872016e+01, gap 0.0000%\n",
      "\n",
      "User-callback calls 1614, time in user-callback 0.00 sec\n"
     ]
    },
    {
     "data": {
      "image/png": "[encoded data removed]",
      "text/plain": [
       "<Figure size 640x480 with 1 Axes>"
      ]
     },
     "metadata": {},
     "output_type": "display_data"
    }
   ],
   "source": [
    "from domp_f import *\n",
    "\n",
    "file = \"synth_data/instance_n100_m2_s0_d2_o00_0.txt\"\n",
    "method = \"cent\"\n",
    "alpha=0.5\n",
    "p=2\n",
    "time_limit=3600\n",
    "relax=False\n",
    "\n",
    "domp_solver = DOMP(file, method, time_limit, relax, p, alpha)\n",
    "domp_solver.solve_BEP()\n",
    "results=domp_solver.solution_info\n",
    "\n",
    "import matplotlib.pyplot as plt\n",
    "from matplotlib.colors import Normalize\n",
    "import matplotlib as mpl\n",
    "\n",
    "Centers = [i for i in range(domp_solver.n) if results[\"Y\"][i]>0.5]\n",
    "Assignments = [[i for i in range(domp_solver.n) if results[\"Z\"][i,j]>0.5] for j in range(domp_solver.n) if j in Centers]\n",
    "X = np.loadtxt(file)\n",
    "norm = Normalize(vmin=0, vmax=p - 1)\n",
    "cmap = mpl.colormaps['viridis']  # or colormaps.get_cmap('viridis')\n",
    "\n",
    "\n",
    "for j in range(p):\n",
    "    color = cmap(norm(j))\n",
    "    plt.scatter(X[Assignments[j], 0], X[Assignments[j], 1], color=color, alpha=0.7, s=5)\n",
    "\n"
   ]
  }
 ],
 "metadata": {
  "kernelspec": {
   "display_name": "Python 3",
   "language": "python",
   "name": "python3"
  },
  "language_info": {
   "codemirror_mode": {
    "name": "ipython",
    "version": 3
   },
   "file_extension": ".py",
   "mimetype": "text/x-python",
   "name": "python",
   "nbconvert_exporter": "python",
   "pygments_lexer": "ipython3",
   "version": "3.13.2"
  }
 },
 "nbformat": 4,
 "nbformat_minor": 5
}
